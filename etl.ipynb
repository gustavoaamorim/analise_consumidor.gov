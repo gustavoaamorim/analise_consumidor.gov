{
 "cells": [
  {
   "cell_type": "markdown",
   "metadata": {},
   "source": [
    "### Importando as bibliotecas que serão utilizadas"
   ]
  },
  {
   "cell_type": "code",
   "execution_count": 1,
   "metadata": {},
   "outputs": [],
   "source": [
    "import pandas as pd \n",
    "from unidecode import unidecode "
   ]
  },
  {
   "cell_type": "markdown",
   "metadata": {},
   "source": [
    "### Extração dos dados"
   ]
  },
  {
   "cell_type": "code",
   "execution_count": 2,
   "metadata": {},
   "outputs": [],
   "source": [
    "# extração dos dados\n",
    "df_jan = pd.read_csv('dados/finalizadas_2024-01.csv', delimiter=';')\n",
    "df_fev = pd.read_csv('dados/finalizadas_2024-02.csv', delimiter=';')\n",
    "df_mar = pd.read_csv('dados/finalizadas_2024-03.csv', delimiter=';')"
   ]
  },
  {
   "cell_type": "code",
   "execution_count": 12,
   "metadata": {},
   "outputs": [],
   "source": [
    "# realizando a junção dos dataframes em um só\n",
    "df_concat = pd.concat([df_jan, df_fev, df_mar], ignore_index=True)"
   ]
  },
  {
   "cell_type": "code",
   "execution_count": 13,
   "metadata": {},
   "outputs": [
    {
     "data": {
      "text/html": [
       "<div>\n",
       "<style scoped>\n",
       "    .dataframe tbody tr th:only-of-type {\n",
       "        vertical-align: middle;\n",
       "    }\n",
       "\n",
       "    .dataframe tbody tr th {\n",
       "        vertical-align: top;\n",
       "    }\n",
       "\n",
       "    .dataframe thead th {\n",
       "        text-align: right;\n",
       "    }\n",
       "</style>\n",
       "<table border=\"1\" class=\"dataframe\">\n",
       "  <thead>\n",
       "    <tr style=\"text-align: right;\">\n",
       "      <th></th>\n",
       "      <th>Região</th>\n",
       "      <th>UF</th>\n",
       "      <th>Cidade</th>\n",
       "      <th>Sexo</th>\n",
       "      <th>Faixa Etária</th>\n",
       "      <th>Data Finalização</th>\n",
       "      <th>Tempo Resposta</th>\n",
       "      <th>Nome Fantasia</th>\n",
       "      <th>Segmento de Mercado</th>\n",
       "      <th>Área</th>\n",
       "      <th>Assunto</th>\n",
       "      <th>Grupo Problema</th>\n",
       "      <th>Problema</th>\n",
       "      <th>Como Comprou Contratou</th>\n",
       "      <th>Procurou Empresa</th>\n",
       "      <th>Respondida</th>\n",
       "      <th>Situação</th>\n",
       "      <th>Avaliação Reclamação</th>\n",
       "      <th>Nota do Consumidor</th>\n",
       "    </tr>\n",
       "  </thead>\n",
       "  <tbody>\n",
       "    <tr>\n",
       "      <th>0</th>\n",
       "      <td>NE</td>\n",
       "      <td>BA</td>\n",
       "      <td>Salvador</td>\n",
       "      <td>F</td>\n",
       "      <td>entre 31 a 40 anos</td>\n",
       "      <td>2024-01-01</td>\n",
       "      <td>NaN</td>\n",
       "      <td>Jadlog</td>\n",
       "      <td>Empresas de Serviços Postais e Logística</td>\n",
       "      <td>Demais Serviços</td>\n",
       "      <td>Serviços Postais</td>\n",
       "      <td>Entrega do Produto</td>\n",
       "      <td>Não entrega / demora na entrega do produto</td>\n",
       "      <td>Internet</td>\n",
       "      <td>S</td>\n",
       "      <td>N</td>\n",
       "      <td>Finalizada não avaliada</td>\n",
       "      <td>Não Avaliada</td>\n",
       "      <td>NaN</td>\n",
       "    </tr>\n",
       "    <tr>\n",
       "      <th>1</th>\n",
       "      <td>NE</td>\n",
       "      <td>BA</td>\n",
       "      <td>Salvador</td>\n",
       "      <td>M</td>\n",
       "      <td>entre 31 a 40 anos</td>\n",
       "      <td>2024-01-01</td>\n",
       "      <td>10.0</td>\n",
       "      <td>Hipercard</td>\n",
       "      <td>Bancos, Financeiras e Administradoras de Cartão</td>\n",
       "      <td>Serviços Financeiros</td>\n",
       "      <td>Cartão de Crédito / Cartão de Débito / Cartão ...</td>\n",
       "      <td>Cobrança / Contestação</td>\n",
       "      <td>Negativação indevida referente a cobrança não ...</td>\n",
       "      <td>Não comprei / contratei</td>\n",
       "      <td>S</td>\n",
       "      <td>S</td>\n",
       "      <td>Finalizada não avaliada</td>\n",
       "      <td>Não Avaliada</td>\n",
       "      <td>NaN</td>\n",
       "    </tr>\n",
       "    <tr>\n",
       "      <th>2</th>\n",
       "      <td>SE</td>\n",
       "      <td>SP</td>\n",
       "      <td>Jundiaí</td>\n",
       "      <td>F</td>\n",
       "      <td>entre 41 a 50 anos</td>\n",
       "      <td>2024-01-01</td>\n",
       "      <td>NaN</td>\n",
       "      <td>99App</td>\n",
       "      <td>Empresas de Intermediação de Serviços / Negócios</td>\n",
       "      <td>Demais Serviços</td>\n",
       "      <td>Aplicativo de mobilidade urbana</td>\n",
       "      <td>Cobrança / Contestação</td>\n",
       "      <td>Cobrança em duplicidade / Cobrança referente a...</td>\n",
       "      <td>Internet</td>\n",
       "      <td>S</td>\n",
       "      <td>N</td>\n",
       "      <td>Finalizada não avaliada</td>\n",
       "      <td>Não Avaliada</td>\n",
       "      <td>NaN</td>\n",
       "    </tr>\n",
       "    <tr>\n",
       "      <th>3</th>\n",
       "      <td>NE</td>\n",
       "      <td>BA</td>\n",
       "      <td>Salvador</td>\n",
       "      <td>F</td>\n",
       "      <td>entre 31 a 40 anos</td>\n",
       "      <td>2024-01-01</td>\n",
       "      <td>10.0</td>\n",
       "      <td>iFood</td>\n",
       "      <td>Empresas de Intermediação de Serviços / Negócios</td>\n",
       "      <td>Demais Serviços</td>\n",
       "      <td>Serviços de entrega / delivery</td>\n",
       "      <td>Entrega do Produto</td>\n",
       "      <td>Produto entregue incompleto / diferente do  pe...</td>\n",
       "      <td>Internet</td>\n",
       "      <td>S</td>\n",
       "      <td>S</td>\n",
       "      <td>Finalizada não avaliada</td>\n",
       "      <td>Não Avaliada</td>\n",
       "      <td>NaN</td>\n",
       "    </tr>\n",
       "    <tr>\n",
       "      <th>4</th>\n",
       "      <td>NE</td>\n",
       "      <td>BA</td>\n",
       "      <td>Salvador</td>\n",
       "      <td>F</td>\n",
       "      <td>entre 51 a 60 anos</td>\n",
       "      <td>2024-01-01</td>\n",
       "      <td>10.0</td>\n",
       "      <td>Banco BMG</td>\n",
       "      <td>Bancos, Financeiras e Administradoras de Cartão</td>\n",
       "      <td>Serviços Financeiros</td>\n",
       "      <td>Crédito Consignado (para servidores públicos o...</td>\n",
       "      <td>Cobrança / Contestação</td>\n",
       "      <td>Dificuldade para obter boleto de quitação ou i...</td>\n",
       "      <td>Telefone</td>\n",
       "      <td>S</td>\n",
       "      <td>S</td>\n",
       "      <td>Finalizada não avaliada</td>\n",
       "      <td>Não Avaliada</td>\n",
       "      <td>NaN</td>\n",
       "    </tr>\n",
       "  </tbody>\n",
       "</table>\n",
       "</div>"
      ],
      "text/plain": [
       "  Região  UF    Cidade Sexo        Faixa Etária Data Finalização  \\\n",
       "0     NE  BA  Salvador    F  entre 31 a 40 anos       2024-01-01   \n",
       "1     NE  BA  Salvador    M  entre 31 a 40 anos       2024-01-01   \n",
       "2     SE  SP   Jundiaí    F  entre 41 a 50 anos       2024-01-01   \n",
       "3     NE  BA  Salvador    F  entre 31 a 40 anos       2024-01-01   \n",
       "4     NE  BA  Salvador    F  entre 51 a 60 anos       2024-01-01   \n",
       "\n",
       "   Tempo Resposta Nome Fantasia  \\\n",
       "0             NaN        Jadlog   \n",
       "1            10.0     Hipercard   \n",
       "2             NaN         99App   \n",
       "3            10.0         iFood   \n",
       "4            10.0     Banco BMG   \n",
       "\n",
       "                                Segmento de Mercado                  Área  \\\n",
       "0          Empresas de Serviços Postais e Logística      Demais Serviços    \n",
       "1   Bancos, Financeiras e Administradoras de Cartão  Serviços Financeiros   \n",
       "2  Empresas de Intermediação de Serviços / Negócios      Demais Serviços    \n",
       "3  Empresas de Intermediação de Serviços / Negócios      Demais Serviços    \n",
       "4   Bancos, Financeiras e Administradoras de Cartão  Serviços Financeiros   \n",
       "\n",
       "                                             Assunto          Grupo Problema  \\\n",
       "0                                   Serviços Postais      Entrega do Produto   \n",
       "1  Cartão de Crédito / Cartão de Débito / Cartão ...  Cobrança / Contestação   \n",
       "2                    Aplicativo de mobilidade urbana  Cobrança / Contestação   \n",
       "3                     Serviços de entrega / delivery      Entrega do Produto   \n",
       "4  Crédito Consignado (para servidores públicos o...  Cobrança / Contestação   \n",
       "\n",
       "                                            Problema   Como Comprou Contratou  \\\n",
       "0         Não entrega / demora na entrega do produto                 Internet   \n",
       "1  Negativação indevida referente a cobrança não ...  Não comprei / contratei   \n",
       "2  Cobrança em duplicidade / Cobrança referente a...                 Internet   \n",
       "3  Produto entregue incompleto / diferente do  pe...                 Internet   \n",
       "4  Dificuldade para obter boleto de quitação ou i...                 Telefone   \n",
       "\n",
       "  Procurou Empresa Respondida                 Situação Avaliação Reclamação  \\\n",
       "0                S          N  Finalizada não avaliada         Não Avaliada   \n",
       "1                S          S  Finalizada não avaliada         Não Avaliada   \n",
       "2                S          N  Finalizada não avaliada         Não Avaliada   \n",
       "3                S          S  Finalizada não avaliada         Não Avaliada   \n",
       "4                S          S  Finalizada não avaliada         Não Avaliada   \n",
       "\n",
       "   Nota do Consumidor  \n",
       "0                 NaN  \n",
       "1                 NaN  \n",
       "2                 NaN  \n",
       "3                 NaN  \n",
       "4                 NaN  "
      ]
     },
     "execution_count": 13,
     "metadata": {},
     "output_type": "execute_result"
    }
   ],
   "source": [
    "# verificando nosso novo df\n",
    "df_concat.head()"
   ]
  },
  {
   "cell_type": "markdown",
   "metadata": {},
   "source": [
    "### Transformação dos dados"
   ]
  },
  {
   "cell_type": "markdown",
   "metadata": {},
   "source": [
    "Vamos iniciar removendo os valores duplicados utilizando o método `drop_duplicates()`"
   ]
  },
  {
   "cell_type": "code",
   "execution_count": 14,
   "metadata": {},
   "outputs": [],
   "source": [
    "# verificando se há dados duplicados e removendo\n",
    "df_concat = df_concat.drop_duplicates()"
   ]
  },
  {
   "cell_type": "markdown",
   "metadata": {},
   "source": [
    "Através do método `info()` observamos que o dataframe possui 19 colunas e 334280 registros únicos. Observamos também que as colunas `Sexo`, `Tempo Resposta`, `Avaliação Reclamação` e `Nota do Consumidor` possuem valores nulos pois apresentam variações em relação ao restante das colunas. Iremos tratar isso futuramente."
   ]
  },
  {
   "cell_type": "code",
   "execution_count": 15,
   "metadata": {},
   "outputs": [
    {
     "name": "stdout",
     "output_type": "stream",
     "text": [
      "<class 'pandas.core.frame.DataFrame'>\n",
      "Index: 334280 entries, 0 to 335294\n",
      "Data columns (total 19 columns):\n",
      " #   Column                  Non-Null Count   Dtype  \n",
      "---  ------                  --------------   -----  \n",
      " 0   Região                  334280 non-null  object \n",
      " 1   UF                      334280 non-null  object \n",
      " 2   Cidade                  334280 non-null  object \n",
      " 3   Sexo                    334274 non-null  object \n",
      " 4   Faixa Etária            334280 non-null  object \n",
      " 5   Data Finalização        334280 non-null  object \n",
      " 6   Tempo Resposta          325650 non-null  float64\n",
      " 7   Nome Fantasia           334280 non-null  object \n",
      " 8   Segmento de Mercado     334280 non-null  object \n",
      " 9   Área                    334280 non-null  object \n",
      " 10  Assunto                 334280 non-null  object \n",
      " 11  Grupo Problema          334280 non-null  object \n",
      " 12  Problema                334280 non-null  object \n",
      " 13  Como Comprou Contratou  334280 non-null  object \n",
      " 14  Procurou Empresa        334280 non-null  object \n",
      " 15  Respondida              334280 non-null  object \n",
      " 16  Situação                334280 non-null  object \n",
      " 17  Avaliação Reclamação    334279 non-null  object \n",
      " 18  Nota do Consumidor      136908 non-null  float64\n",
      "dtypes: float64(2), object(17)\n",
      "memory usage: 51.0+ MB\n"
     ]
    }
   ],
   "source": [
    "# utilizando o método info para verificar os tipos e dados e valores não nulos e observar se os dados estão consistentes.\n",
    "df_concat.info()"
   ]
  },
  {
   "cell_type": "markdown",
   "metadata": {},
   "source": [
    "Agora iremos eliminar as colunas que não serão utilizadas em nossa análise, padronizar os nomes das colunas colocando todas as letras em minúsculo e removendo espaços. Isso facilitará a leitura dos dados e trabalho no momento da análise."
   ]
  },
  {
   "cell_type": "code",
   "execution_count": 16,
   "metadata": {},
   "outputs": [],
   "source": [
    "# eliminando colunas que não serão utilizadas\n",
    "df_concat.drop(columns=['Região', 'Cidade', 'Data Finalização', 'Área', 'Assunto', 'Grupo Problema', 'Problema','Respondida', 'Situação'], inplace=True)"
   ]
  },
  {
   "cell_type": "code",
   "execution_count": 17,
   "metadata": {},
   "outputs": [],
   "source": [
    "# padronizando os nomes das colunas removendo acentos, espaços e transformando em minúsculas.\n",
    "df_concat.rename(columns=lambda x: unidecode(x).lower().replace(' ', '_'), inplace=True)"
   ]
  },
  {
   "cell_type": "code",
   "execution_count": 18,
   "metadata": {},
   "outputs": [
    {
     "data": {
      "text/html": [
       "<div>\n",
       "<style scoped>\n",
       "    .dataframe tbody tr th:only-of-type {\n",
       "        vertical-align: middle;\n",
       "    }\n",
       "\n",
       "    .dataframe tbody tr th {\n",
       "        vertical-align: top;\n",
       "    }\n",
       "\n",
       "    .dataframe thead th {\n",
       "        text-align: right;\n",
       "    }\n",
       "</style>\n",
       "<table border=\"1\" class=\"dataframe\">\n",
       "  <thead>\n",
       "    <tr style=\"text-align: right;\">\n",
       "      <th></th>\n",
       "      <th>uf</th>\n",
       "      <th>sexo</th>\n",
       "      <th>faixa_etaria</th>\n",
       "      <th>tempo_resposta</th>\n",
       "      <th>nome_fantasia</th>\n",
       "      <th>segmento_de_mercado</th>\n",
       "      <th>como_comprou_contratou</th>\n",
       "      <th>procurou_empresa</th>\n",
       "      <th>avaliacao_reclamacao</th>\n",
       "      <th>nota_do_consumidor</th>\n",
       "    </tr>\n",
       "  </thead>\n",
       "  <tbody>\n",
       "    <tr>\n",
       "      <th>0</th>\n",
       "      <td>BA</td>\n",
       "      <td>F</td>\n",
       "      <td>entre 31 a 40 anos</td>\n",
       "      <td>NaN</td>\n",
       "      <td>Jadlog</td>\n",
       "      <td>Empresas de Serviços Postais e Logística</td>\n",
       "      <td>Internet</td>\n",
       "      <td>S</td>\n",
       "      <td>Não Avaliada</td>\n",
       "      <td>NaN</td>\n",
       "    </tr>\n",
       "  </tbody>\n",
       "</table>\n",
       "</div>"
      ],
      "text/plain": [
       "   uf sexo        faixa_etaria  tempo_resposta nome_fantasia  \\\n",
       "0  BA    F  entre 31 a 40 anos             NaN        Jadlog   \n",
       "\n",
       "                        segmento_de_mercado como_comprou_contratou  \\\n",
       "0  Empresas de Serviços Postais e Logística               Internet   \n",
       "\n",
       "  procurou_empresa avaliacao_reclamacao  nota_do_consumidor  \n",
       "0                S         Não Avaliada                 NaN  "
      ]
     },
     "execution_count": 18,
     "metadata": {},
     "output_type": "execute_result"
    }
   ],
   "source": [
    "# verificando se as alterações foram aplicadas corretamente\n",
    "df_concat.head(1)"
   ]
  },
  {
   "cell_type": "markdown",
   "metadata": {},
   "source": [
    "Ao utilizar o método `shape` temos agora 334280 registros únicos e 10 colunas após remoção dos dados duplicados."
   ]
  },
  {
   "cell_type": "code",
   "execution_count": 19,
   "metadata": {},
   "outputs": [
    {
     "data": {
      "text/plain": [
       "(334280, 10)"
      ]
     },
     "execution_count": 19,
     "metadata": {},
     "output_type": "execute_result"
    }
   ],
   "source": [
    "df_concat.shape"
   ]
  },
  {
   "cell_type": "markdown",
   "metadata": {},
   "source": [
    "Ao verificar o percentual de valores nulos percebemos que a coluna `nota_do_consumidor` possui uma quantidade significativa de nulos com 59% de valores nulos. \n",
    "\n",
    "Isso acontece porque muitos consumidores acabam não realizando a avaliação do atendimento dentro do período estipulado então a reclamação é dada como encerrada porém nenhuma nota é atribuída. \n",
    "\n",
    "Sendo assim vamos substituir os valores nulos desta coluna como 0 pois ainda poderemos contabilizar como uma reclamação registrada, mesmo que não avaliada.\n",
    "\n",
    "Já para as demais colunas com valores nulos nós iremos excluir os valores pois não impactarão nos resultados da análise visto que são bem baixos."
   ]
  },
  {
   "cell_type": "code",
   "execution_count": 20,
   "metadata": {},
   "outputs": [
    {
     "data": {
      "text/plain": [
       "uf                         0.000000\n",
       "sexo                       0.001795\n",
       "faixa_etaria               0.000000\n",
       "tempo_resposta             2.581668\n",
       "nome_fantasia              0.000000\n",
       "segmento_de_mercado        0.000000\n",
       "como_comprou_contratou     0.000000\n",
       "procurou_empresa           0.000000\n",
       "avaliacao_reclamacao       0.000299\n",
       "nota_do_consumidor        59.043915\n",
       "dtype: float64"
      ]
     },
     "execution_count": 20,
     "metadata": {},
     "output_type": "execute_result"
    }
   ],
   "source": [
    "# verificando o percentual de valores nulos por coluna\n",
    "df_concat.isnull().sum()/df_concat.shape[0]*100"
   ]
  },
  {
   "cell_type": "code",
   "execution_count": 21,
   "metadata": {},
   "outputs": [],
   "source": [
    "# removendo valores nulos das colunas tempo_resposta e sexo e avalicao_reclamacao\n",
    "df_concat = df_concat.dropna(subset=['tempo_resposta', 'sexo', 'avaliacao_reclamacao'])"
   ]
  },
  {
   "cell_type": "code",
   "execution_count": 22,
   "metadata": {},
   "outputs": [],
   "source": [
    "# preenchendo os valores ausentes na coluna nota_do_consumidor com 0\n",
    "df_concat['nota_do_consumidor'] = df_concat['nota_do_consumidor'].fillna(0)"
   ]
  },
  {
   "cell_type": "code",
   "execution_count": 24,
   "metadata": {},
   "outputs": [
    {
     "data": {
      "text/html": [
       "<div>\n",
       "<style scoped>\n",
       "    .dataframe tbody tr th:only-of-type {\n",
       "        vertical-align: middle;\n",
       "    }\n",
       "\n",
       "    .dataframe tbody tr th {\n",
       "        vertical-align: top;\n",
       "    }\n",
       "\n",
       "    .dataframe thead th {\n",
       "        text-align: right;\n",
       "    }\n",
       "</style>\n",
       "<table border=\"1\" class=\"dataframe\">\n",
       "  <thead>\n",
       "    <tr style=\"text-align: right;\">\n",
       "      <th></th>\n",
       "      <th>uf</th>\n",
       "      <th>sexo</th>\n",
       "      <th>faixa_etaria</th>\n",
       "      <th>tempo_resposta</th>\n",
       "      <th>nome_fantasia</th>\n",
       "      <th>segmento_de_mercado</th>\n",
       "      <th>como_comprou_contratou</th>\n",
       "      <th>procurou_empresa</th>\n",
       "      <th>avaliacao_reclamacao</th>\n",
       "      <th>nota_do_consumidor</th>\n",
       "    </tr>\n",
       "  </thead>\n",
       "  <tbody>\n",
       "    <tr>\n",
       "      <th>1</th>\n",
       "      <td>BA</td>\n",
       "      <td>M</td>\n",
       "      <td>entre 31 a 40 anos</td>\n",
       "      <td>10.0</td>\n",
       "      <td>Hipercard</td>\n",
       "      <td>Bancos, Financeiras e Administradoras de Cartão</td>\n",
       "      <td>Não comprei / contratei</td>\n",
       "      <td>S</td>\n",
       "      <td>Não Avaliada</td>\n",
       "      <td>0.0</td>\n",
       "    </tr>\n",
       "  </tbody>\n",
       "</table>\n",
       "</div>"
      ],
      "text/plain": [
       "   uf sexo        faixa_etaria  tempo_resposta nome_fantasia  \\\n",
       "1  BA    M  entre 31 a 40 anos            10.0     Hipercard   \n",
       "\n",
       "                               segmento_de_mercado   como_comprou_contratou  \\\n",
       "1  Bancos, Financeiras e Administradoras de Cartão  Não comprei / contratei   \n",
       "\n",
       "  procurou_empresa avaliacao_reclamacao  nota_do_consumidor  \n",
       "1                S         Não Avaliada                 0.0  "
      ]
     },
     "execution_count": 24,
     "metadata": {},
     "output_type": "execute_result"
    }
   ],
   "source": [
    "df_concat.head(1)"
   ]
  },
  {
   "cell_type": "markdown",
   "metadata": {},
   "source": [
    "Fazendo uma nova verificação podemos ver que as transformações foram aplicadas corretamente e agora não possuímos colunas com valores nulos."
   ]
  },
  {
   "cell_type": "code",
   "execution_count": 25,
   "metadata": {},
   "outputs": [
    {
     "data": {
      "text/plain": [
       "uf                        0.0\n",
       "sexo                      0.0\n",
       "faixa_etaria              0.0\n",
       "tempo_resposta            0.0\n",
       "nome_fantasia             0.0\n",
       "segmento_de_mercado       0.0\n",
       "como_comprou_contratou    0.0\n",
       "procurou_empresa          0.0\n",
       "avaliacao_reclamacao      0.0\n",
       "nota_do_consumidor        0.0\n",
       "dtype: float64"
      ]
     },
     "execution_count": 25,
     "metadata": {},
     "output_type": "execute_result"
    }
   ],
   "source": [
    "df_concat.isnull().sum()/df_concat.shape[0]*100"
   ]
  },
  {
   "cell_type": "markdown",
   "metadata": {},
   "source": [
    "A configuração final do nosso dataframe é de 235643 registros únicos e 10 colunas."
   ]
  },
  {
   "cell_type": "code",
   "execution_count": 26,
   "metadata": {},
   "outputs": [
    {
     "data": {
      "text/plain": [
       "(325643, 10)"
      ]
     },
     "execution_count": 26,
     "metadata": {},
     "output_type": "execute_result"
    }
   ],
   "source": [
    "df_concat.shape"
   ]
  },
  {
   "cell_type": "markdown",
   "metadata": {},
   "source": [
    "### Carregamento dos dados\n",
    "Iremos exportar o dataframe tratado para um arquivo csv que será utilizado em nossa análise."
   ]
  },
  {
   "cell_type": "code",
   "execution_count": 27,
   "metadata": {},
   "outputs": [],
   "source": [
    "# exportando o dataframe para um arquivo csv para realizar a análise \n",
    "df_concat.to_csv('dados/base_final.csv', index=False)"
   ]
  }
 ],
 "metadata": {
  "kernelspec": {
   "display_name": "base",
   "language": "python",
   "name": "python3"
  },
  "language_info": {
   "codemirror_mode": {
    "name": "ipython",
    "version": 3
   },
   "file_extension": ".py",
   "mimetype": "text/x-python",
   "name": "python",
   "nbconvert_exporter": "python",
   "pygments_lexer": "ipython3",
   "version": "3.11.5"
  }
 },
 "nbformat": 4,
 "nbformat_minor": 2
}
